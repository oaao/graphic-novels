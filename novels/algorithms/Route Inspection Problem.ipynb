{
 "cells": [
  {
   "cell_type": "markdown",
   "metadata": {},
   "source": [
    "# Route Inspection Problem\n",
    "### (Chinese Postman Problem)"
   ]
  },
  {
   "cell_type": "markdown",
   "metadata": {},
   "source": [
    "> To find the shortest closed path which visits every edge of a (connected) undirected graph."
   ]
  },
  {
   "cell_type": "markdown",
   "metadata": {},
   "source": [
    "### Conceptual Solution"
   ]
  },
  {
   "cell_type": "markdown",
   "metadata": {},
   "source": [
    "A **Eulerian circuit** should exist in the graph: a closed-circuit path which visits every edge *exactly once*.\n",
    "\n",
    "If such a circuit does not exist, generate that condition from the given graph: \n",
    "\n",
    ">Find the minimal set of the graph's edges to duplicate such that the resulting multigraph **does** have a Eulerian circuit.\n",
    "\n",
    "The subset of edges must have the minimum possible total weight, or if edge weight is a non-factor, the smallest number of edges."
   ]
  },
  {
   "cell_type": "markdown",
   "metadata": {},
   "source": [
    "### Algorithm (generalised)"
   ]
  },
  {
   "cell_type": "markdown",
   "metadata": {},
   "source": [
    "1. Find all nodes with an odd [degree](https://en.wikipedia.org/wiki/Degree_(graph_theory)).\n",
    "\n",
    "> nodes with odd degrees are problematic for \n",
    "\n",
    "2. Add edges to the graph such that odd-degree nodes become even-degree (accounts for and minimises backtracking): \n",
    "   \n",
    "> any edges added must be duplicates of graph's original edges\n",
    "    \n",
    "> the added set of edges must have minimal total weight (np-hard)\n",
    "    \n",
    "3. Find the Eulerian circuit in the regenerated multigraph."
   ]
  },
  {
   "cell_type": "markdown",
   "metadata": {},
   "source": [
    "----"
   ]
  },
  {
   "cell_type": "markdown",
   "metadata": {},
   "source": [
    "### Data Preparation"
   ]
  },
  {
   "cell_type": "markdown",
   "metadata": {},
   "source": [
    "Gather dependencies:"
   ]
  },
  {
   "cell_type": "code",
   "execution_count": 9,
   "metadata": {},
   "outputs": [],
   "source": [
    "# stdlib dependencies\n",
    "import itertools\n",
    "import copy\n",
    "\n",
    "# external libraries\n",
    "import networkx as nx\n",
    "import pandas   as pd\n",
    "import matplotlib.pyplot as pltEuler circuit"
   ]
  },
  {
   "cell_type": "markdown",
   "metadata": {},
   "source": [
    "Obtain external data:\n",
    "\n",
    "> We use a dataset that maps connections/intersections between various hiking trails in Sleeping Giant Provincial Park (Ontario, Canada)."
   ]
  },
  {
   "cell_type": "code",
   "execution_count": 15,
   "metadata": {},
   "outputs": [],
   "source": [
    "import io\n",
    "import requests as r\n",
    "\n",
    "NODE_CSV = 'https://gist.githubusercontent.com/brooksandrew/f989e10af17fb4c85b11409fea47895b/raw/a3a8da0fa5b094f1ca9d82e1642b384889ae16e8/nodelist_sleeping_giant.csv'\n",
    "EDGE_CSV = 'https://gist.githubusercontent.com/brooksandrew/e570c38bcc72a8d102422f2af836513b/raw/89c76b2563dbc0e88384719a35cba0dfc04cd522/edgelist_sleeping_giant.csv'\n",
    "\n",
    "nodes = pd.read_csv(io.StringIO(r.get(NODE_CSV).content.decode('utf-8')))\n",
    "edges = pd.read_csv(io.StringIO(r.get(EDGE_CSV).content.decode('utf-8')))"
   ]
  },
  {
   "cell_type": "markdown",
   "metadata": {},
   "source": [
    "Previewing data:"
   ]
  },
  {
   "cell_type": "code",
   "execution_count": 20,
   "metadata": {},
   "outputs": [
    {
     "data": {
      "text/html": [
       "<div>\n",
       "<style scoped>\n",
       "    .dataframe tbody tr th:only-of-type {\n",
       "        vertical-align: middle;\n",
       "    }\n",
       "\n",
       "    .dataframe tbody tr th {\n",
       "        vertical-align: top;\n",
       "    }\n",
       "\n",
       "    .dataframe thead th {\n",
       "        text-align: right;\n",
       "    }\n",
       "</style>\n",
       "<table border=\"1\" class=\"dataframe\">\n",
       "  <thead>\n",
       "    <tr style=\"text-align: right;\">\n",
       "      <th></th>\n",
       "      <th>id</th>\n",
       "      <th>X</th>\n",
       "      <th>Y</th>\n",
       "    </tr>\n",
       "  </thead>\n",
       "  <tbody>\n",
       "    <tr>\n",
       "      <th>0</th>\n",
       "      <td>b_bv</td>\n",
       "      <td>1486</td>\n",
       "      <td>732</td>\n",
       "    </tr>\n",
       "    <tr>\n",
       "      <th>1</th>\n",
       "      <td>b_bw</td>\n",
       "      <td>716</td>\n",
       "      <td>1357</td>\n",
       "    </tr>\n",
       "    <tr>\n",
       "      <th>2</th>\n",
       "      <td>b_end_east</td>\n",
       "      <td>3164</td>\n",
       "      <td>1111</td>\n",
       "    </tr>\n",
       "    <tr>\n",
       "      <th>3</th>\n",
       "      <td>b_end_west</td>\n",
       "      <td>141</td>\n",
       "      <td>1938</td>\n",
       "    </tr>\n",
       "    <tr>\n",
       "      <th>4</th>\n",
       "      <td>b_g</td>\n",
       "      <td>1725</td>\n",
       "      <td>771</td>\n",
       "    </tr>\n",
       "    <tr>\n",
       "      <th>...</th>\n",
       "      <td>...</td>\n",
       "      <td>...</td>\n",
       "      <td>...</td>\n",
       "    </tr>\n",
       "    <tr>\n",
       "      <th>72</th>\n",
       "      <td>y_gy2</td>\n",
       "      <td>1939</td>\n",
       "      <td>1182</td>\n",
       "    </tr>\n",
       "    <tr>\n",
       "      <th>73</th>\n",
       "      <td>y_rc</td>\n",
       "      <td>1429</td>\n",
       "      <td>1491</td>\n",
       "    </tr>\n",
       "    <tr>\n",
       "      <th>74</th>\n",
       "      <td>y_rh</td>\n",
       "      <td>717</td>\n",
       "      <td>1852</td>\n",
       "    </tr>\n",
       "    <tr>\n",
       "      <th>75</th>\n",
       "      <td>y_rs</td>\n",
       "      <td>1805</td>\n",
       "      <td>1246</td>\n",
       "    </tr>\n",
       "    <tr>\n",
       "      <th>76</th>\n",
       "      <td>y_rt</td>\n",
       "      <td>977</td>\n",
       "      <td>1666</td>\n",
       "    </tr>\n",
       "  </tbody>\n",
       "</table>\n",
       "<p>77 rows × 3 columns</p>\n",
       "</div>"
      ],
      "text/plain": [
       "            id     X     Y\n",
       "0         b_bv  1486   732\n",
       "1         b_bw   716  1357\n",
       "2   b_end_east  3164  1111\n",
       "3   b_end_west   141  1938\n",
       "4          b_g  1725   771\n",
       "..         ...   ...   ...\n",
       "72       y_gy2  1939  1182\n",
       "73        y_rc  1429  1491\n",
       "74        y_rh   717  1852\n",
       "75        y_rs  1805  1246\n",
       "76        y_rt   977  1666\n",
       "\n",
       "[77 rows x 3 columns]"
      ]
     },
     "execution_count": 20,
     "metadata": {},
     "output_type": "execute_result"
    }
   ],
   "source": [
    "nodes"
   ]
  },
  {
   "cell_type": "code",
   "execution_count": 21,
   "metadata": {},
   "outputs": [
    {
     "data": {
      "text/html": [
       "<div>\n",
       "<style scoped>\n",
       "    .dataframe tbody tr th:only-of-type {\n",
       "        vertical-align: middle;\n",
       "    }\n",
       "\n",
       "    .dataframe tbody tr th {\n",
       "        vertical-align: top;\n",
       "    }\n",
       "\n",
       "    .dataframe thead th {\n",
       "        text-align: right;\n",
       "    }\n",
       "</style>\n",
       "<table border=\"1\" class=\"dataframe\">\n",
       "  <thead>\n",
       "    <tr style=\"text-align: right;\">\n",
       "      <th></th>\n",
       "      <th>node1</th>\n",
       "      <th>node2</th>\n",
       "      <th>trail</th>\n",
       "      <th>distance</th>\n",
       "      <th>color</th>\n",
       "      <th>estimate</th>\n",
       "    </tr>\n",
       "  </thead>\n",
       "  <tbody>\n",
       "    <tr>\n",
       "      <th>0</th>\n",
       "      <td>rs_end_north</td>\n",
       "      <td>v_rs</td>\n",
       "      <td>rs</td>\n",
       "      <td>0.30</td>\n",
       "      <td>red</td>\n",
       "      <td>0</td>\n",
       "    </tr>\n",
       "    <tr>\n",
       "      <th>1</th>\n",
       "      <td>v_rs</td>\n",
       "      <td>b_rs</td>\n",
       "      <td>rs</td>\n",
       "      <td>0.21</td>\n",
       "      <td>red</td>\n",
       "      <td>0</td>\n",
       "    </tr>\n",
       "    <tr>\n",
       "      <th>2</th>\n",
       "      <td>b_rs</td>\n",
       "      <td>g_rs</td>\n",
       "      <td>rs</td>\n",
       "      <td>0.11</td>\n",
       "      <td>red</td>\n",
       "      <td>0</td>\n",
       "    </tr>\n",
       "    <tr>\n",
       "      <th>3</th>\n",
       "      <td>g_rs</td>\n",
       "      <td>w_rs</td>\n",
       "      <td>rs</td>\n",
       "      <td>0.18</td>\n",
       "      <td>red</td>\n",
       "      <td>0</td>\n",
       "    </tr>\n",
       "    <tr>\n",
       "      <th>4</th>\n",
       "      <td>w_rs</td>\n",
       "      <td>o_rs</td>\n",
       "      <td>rs</td>\n",
       "      <td>0.21</td>\n",
       "      <td>red</td>\n",
       "      <td>0</td>\n",
       "    </tr>\n",
       "    <tr>\n",
       "      <th>...</th>\n",
       "      <td>...</td>\n",
       "      <td>...</td>\n",
       "      <td>...</td>\n",
       "      <td>...</td>\n",
       "      <td>...</td>\n",
       "      <td>...</td>\n",
       "    </tr>\n",
       "    <tr>\n",
       "      <th>118</th>\n",
       "      <td>v_bv</td>\n",
       "      <td>b_bv</td>\n",
       "      <td>bv</td>\n",
       "      <td>0.08</td>\n",
       "      <td>purple</td>\n",
       "      <td>0</td>\n",
       "    </tr>\n",
       "    <tr>\n",
       "      <th>119</th>\n",
       "      <td>g_gy2</td>\n",
       "      <td>w_gy2</td>\n",
       "      <td>gy2</td>\n",
       "      <td>0.05</td>\n",
       "      <td>yellowgreen</td>\n",
       "      <td>0</td>\n",
       "    </tr>\n",
       "    <tr>\n",
       "      <th>120</th>\n",
       "      <td>w_gy2</td>\n",
       "      <td>b_gy2</td>\n",
       "      <td>gy2</td>\n",
       "      <td>0.03</td>\n",
       "      <td>yellowgreen</td>\n",
       "      <td>1</td>\n",
       "    </tr>\n",
       "    <tr>\n",
       "      <th>121</th>\n",
       "      <td>b_gy2</td>\n",
       "      <td>o_gy2</td>\n",
       "      <td>gy2</td>\n",
       "      <td>0.07</td>\n",
       "      <td>yellowgreen</td>\n",
       "      <td>0</td>\n",
       "    </tr>\n",
       "    <tr>\n",
       "      <th>122</th>\n",
       "      <td>o_gy2</td>\n",
       "      <td>y_gy2</td>\n",
       "      <td>gy2</td>\n",
       "      <td>0.12</td>\n",
       "      <td>yellowgreen</td>\n",
       "      <td>0</td>\n",
       "    </tr>\n",
       "  </tbody>\n",
       "</table>\n",
       "<p>123 rows × 6 columns</p>\n",
       "</div>"
      ],
      "text/plain": [
       "            node1  node2 trail  distance        color  estimate\n",
       "0    rs_end_north   v_rs    rs      0.30          red         0\n",
       "1            v_rs   b_rs    rs      0.21          red         0\n",
       "2            b_rs   g_rs    rs      0.11          red         0\n",
       "3            g_rs   w_rs    rs      0.18          red         0\n",
       "4            w_rs   o_rs    rs      0.21          red         0\n",
       "..            ...    ...   ...       ...          ...       ...\n",
       "118          v_bv   b_bv    bv      0.08       purple         0\n",
       "119         g_gy2  w_gy2   gy2      0.05  yellowgreen         0\n",
       "120         w_gy2  b_gy2   gy2      0.03  yellowgreen         1\n",
       "121         b_gy2  o_gy2   gy2      0.07  yellowgreen         0\n",
       "122         o_gy2  y_gy2   gy2      0.12  yellowgreen         0\n",
       "\n",
       "[123 rows x 6 columns]"
      ]
     },
     "execution_count": 21,
     "metadata": {},
     "output_type": "execute_result"
    }
   ],
   "source": [
    "edges"
   ]
  },
  {
   "cell_type": "markdown",
   "metadata": {},
   "source": [
    "----"
   ]
  },
  {
   "cell_type": "markdown",
   "metadata": {},
   "source": [
    "### Graph Creation"
   ]
  },
  {
   "cell_type": "markdown",
   "metadata": {},
   "source": [
    "Begin by generating an empty graph:"
   ]
  },
  {
   "cell_type": "code",
   "execution_count": 34,
   "metadata": {},
   "outputs": [],
   "source": [
    "g = nx.Graph()"
   ]
  },
  {
   "cell_type": "markdown",
   "metadata": {},
   "source": [
    "Add edges and hydrate with edge attributes:"
   ]
  },
  {
   "cell_type": "code",
   "execution_count": 37,
   "metadata": {},
   "outputs": [],
   "source": [
    "for _, row in edges.iterrows():\n",
    "    g.add_edge(\n",
    "        row[0],  # from node\n",
    "        row[1],  # to node\n",
    "        attr_dict=row[2:].to_dict()\n",
    "    )"
   ]
  },
  {
   "cell_type": "markdown",
   "metadata": {},
   "source": [
    "Now hydrate the graph with desired node attributes:"
   ]
  },
  {
   "cell_type": "code",
   "execution_count": 74,
   "metadata": {},
   "outputs": [],
   "source": [
    "attrs = {\n",
    "    row['id']: row[1:].to_dict()\n",
    "    for _, row in nodes.iterrows()\n",
    "}\n",
    "\n",
    "nx.set_node_attributes(g, attrs)"
   ]
  },
  {
   "cell_type": "markdown",
   "metadata": {},
   "source": [
    "In brief, the graph we've ended up with:"
   ]
  },
  {
   "cell_type": "code",
   "execution_count": 79,
   "metadata": {},
   "outputs": [
    {
     "data": {
      "text/plain": [
       "(77, 123)"
      ]
     },
     "execution_count": 79,
     "metadata": {},
     "output_type": "execute_result"
    }
   ],
   "source": [
    "g.number_of_nodes(), g.number_of_edges()"
   ]
  },
  {
   "cell_type": "code",
   "execution_count": 80,
   "metadata": {},
   "outputs": [
    {
     "data": {
      "image/png": "[encoded data removed]",
      "text/plain": [
       "<Figure size 432x288 with 1 Axes>"
      ]
     },
     "metadata": {},
     "output_type": "display_data"
    }
   ],
   "source": [
    "nx.draw(g)"
   ]
  },
  {
   "cell_type": "markdown",
   "metadata": {},
   "source": [
    "----"
   ]
  },
  {
   "cell_type": "markdown",
   "metadata": {},
   "source": [
    "### Visualization Prep"
   ]
  },
  {
   "cell_type": "markdown",
   "metadata": {},
   "source": [
    "To control positional layout, first transcribe a `{node: (x, y), ...}` dictionary:\n",
    "\n",
    "> `y` is negated so y-origin is at bottom-left, not top-left"
   ]
  },
  {
   "cell_type": "code",
   "execution_count": 120,
   "metadata": {},
   "outputs": [],
   "source": [
    "node_positions = {\n",
    "    nd: (g.nodes()[nd]['X'], -g.nodes()[nd]['Y'])\n",
    "    for nd in g.nodes()\n",
    "}"
   ]
  },
  {
   "cell_type": "markdown",
   "metadata": {},
   "source": [
    "To control edge colour, gather that field from the provided data (wherein an edge belonging to a trail has that trail's colour):"
   ]
  },
  {
   "cell_type": "code",
   "execution_count": 123,
   "metadata": {},
   "outputs": [],
   "source": [
    "edge_attr   = g.edges().values()\n",
    "edge_colors = [e['attr_dict']['color'] for e in edge_attrs] "
   ]
  },
  {
   "cell_type": "code",
   "execution_count": 127,
   "metadata": {},
   "outputs": [
    {
     "data": {
      "image/png": "[encoded data removed]",
      "text/plain": [
       "<Figure size 576x432 with 1 Axes>"
      ]
     },
     "metadata": {},
     "output_type": "display_data"
    }
   ],
   "source": [
    "plt.figure(figsize=(8,6))\n",
    "\n",
    "nx.draw(\n",
    "    g,\n",
    "    pos        = node_positions,\n",
    "    edge_color = edge_colors,\n",
    "    node_size  = 10,\n",
    "    node_color = 'black'\n",
    ")\n",
    "\n",
    "plt.title('Sleeping Giant Trail Network as an undirected graph', size=16)\n",
    "plt.show()"
   ]
  }
 ],
 "metadata": {
  "kernelspec": {
   "display_name": "Python 3",
   "language": "python",
   "name": "python3"
  },
  "language_info": {
   "codemirror_mode": {
    "name": "ipython",
    "version": 3
   },
   "file_extension": ".py",
   "mimetype": "text/x-python",
   "name": "python",
   "nbconvert_exporter": "python",
   "pygments_lexer": "ipython3",
   "version": "3.7.3"
  }
 },
 "nbformat": 4,
 "nbformat_minor": 2
}
