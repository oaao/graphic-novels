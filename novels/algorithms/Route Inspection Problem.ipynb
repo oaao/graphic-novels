{
 "cells": [
  {
   "cell_type": "markdown",
   "metadata": {},
   "source": [
    "# Route Inspection Problem\n",
    "### (Chinese Postman Problem)"
   ]
  },
  {
   "cell_type": "markdown",
   "metadata": {},
   "source": [
    "Find the shortest closed path which visits every edge of a (connected) undirected graph."
   ]
  },
  {
   "cell_type": "markdown",
   "metadata": {},
   "source": [
    "### Context"
   ]
  },
  {
   "cell_type": "markdown",
   "metadata": {},
   "source": [
    "A **Eulerian circuit** should exist in the graph: a closed traversal which visits every edge *exactly once*.\n",
    "\n",
    "If such a circuit does not exist, generate that condition from the given graph: \n",
    "\n",
    ">Find the minimal set of the graph's edges to duplicate such that the resulting multigraph **does** have a Eulerian circuit.\n",
    "\n",
    "The subset of edges must have the minimum possible total weight, or if edge weight is a non-factor, the smallest number of edges."
   ]
  },
  {
   "cell_type": "markdown",
   "metadata": {},
   "source": [
    "### Algorithm (generalised)"
   ]
  },
  {
   "cell_type": "markdown",
   "metadata": {},
   "source": [
    "1. Find all nodes with an odd [degree](https://en.wikipedia.org/wiki/Degree_(graph_theory)).\n",
    "\n",
    "2. Account for and minimise backtracking:\n",
    "\n",
    "> add edges to the graph such that odd-degree nodes become even\n",
    "    \n",
    "> any edges added must be duplicates of graph's original edges\n",
    "    \n",
    "> the added set of edges must have minimal total weight (np-hard)\n",
    "    \n",
    "3. Find the Eulerian circuit in the regenerated multigraph."
   ]
  },
  {
   "cell_type": "markdown",
   "metadata": {},
   "source": [
    "### Implementation"
   ]
  },
  {
   "cell_type": "markdown",
   "metadata": {},
   "source": [
    "Gather dependencies:"
   ]
  },
  {
   "cell_type": "code",
   "execution_count": 9,
   "metadata": {},
   "outputs": [],
   "source": [
    "# stdlib dependencies\n",
    "import itertools\n",
    "import copy\n",
    "\n",
    "# external libraries\n",
    "import networkx as nx\n",
    "import pandas   as pd\n",
    "import matplotlib.pyplot as plt"
   ]
  },
  {
   "cell_type": "markdown",
   "metadata": {},
   "source": [
    "Obtain external data (in a somewhat gorier way than normal):"
   ]
  },
  {
   "cell_type": "code",
   "execution_count": 13,
   "metadata": {},
   "outputs": [],
   "source": [
    "import io\n",
    "import requests\n",
    "\n",
    "resp = requests.get('https://gist.githubusercontent.com/brooksandrew/e570c38bcc72a8d102422f2af836513b/raw/89c76b2563dbc0e88384719a35cba0dfc04cd522/edgelist_sleeping_giant.csv')\n",
    "data = pd.read_csv(io.StringIO(resp.content.decode('utf-8')))"
   ]
  },
  {
   "cell_type": "markdown",
   "metadata": {},
   "source": [
    "Our edgelist appears as such:"
   ]
  },
  {
   "cell_type": "code",
   "execution_count": 14,
   "metadata": {},
   "outputs": [
    {
     "data": {
      "text/html": [
       "<div>\n",
       "<style scoped>\n",
       "    .dataframe tbody tr th:only-of-type {\n",
       "        vertical-align: middle;\n",
       "    }\n",
       "\n",
       "    .dataframe tbody tr th {\n",
       "        vertical-align: top;\n",
       "    }\n",
       "\n",
       "    .dataframe thead th {\n",
       "        text-align: right;\n",
       "    }\n",
       "</style>\n",
       "<table border=\"1\" class=\"dataframe\">\n",
       "  <thead>\n",
       "    <tr style=\"text-align: right;\">\n",
       "      <th></th>\n",
       "      <th>node1</th>\n",
       "      <th>node2</th>\n",
       "      <th>trail</th>\n",
       "      <th>distance</th>\n",
       "      <th>color</th>\n",
       "      <th>estimate</th>\n",
       "    </tr>\n",
       "  </thead>\n",
       "  <tbody>\n",
       "    <tr>\n",
       "      <th>0</th>\n",
       "      <td>rs_end_north</td>\n",
       "      <td>v_rs</td>\n",
       "      <td>rs</td>\n",
       "      <td>0.30</td>\n",
       "      <td>red</td>\n",
       "      <td>0</td>\n",
       "    </tr>\n",
       "    <tr>\n",
       "      <th>1</th>\n",
       "      <td>v_rs</td>\n",
       "      <td>b_rs</td>\n",
       "      <td>rs</td>\n",
       "      <td>0.21</td>\n",
       "      <td>red</td>\n",
       "      <td>0</td>\n",
       "    </tr>\n",
       "    <tr>\n",
       "      <th>2</th>\n",
       "      <td>b_rs</td>\n",
       "      <td>g_rs</td>\n",
       "      <td>rs</td>\n",
       "      <td>0.11</td>\n",
       "      <td>red</td>\n",
       "      <td>0</td>\n",
       "    </tr>\n",
       "    <tr>\n",
       "      <th>3</th>\n",
       "      <td>g_rs</td>\n",
       "      <td>w_rs</td>\n",
       "      <td>rs</td>\n",
       "      <td>0.18</td>\n",
       "      <td>red</td>\n",
       "      <td>0</td>\n",
       "    </tr>\n",
       "    <tr>\n",
       "      <th>4</th>\n",
       "      <td>w_rs</td>\n",
       "      <td>o_rs</td>\n",
       "      <td>rs</td>\n",
       "      <td>0.21</td>\n",
       "      <td>red</td>\n",
       "      <td>0</td>\n",
       "    </tr>\n",
       "    <tr>\n",
       "      <th>...</th>\n",
       "      <td>...</td>\n",
       "      <td>...</td>\n",
       "      <td>...</td>\n",
       "      <td>...</td>\n",
       "      <td>...</td>\n",
       "      <td>...</td>\n",
       "    </tr>\n",
       "    <tr>\n",
       "      <th>118</th>\n",
       "      <td>v_bv</td>\n",
       "      <td>b_bv</td>\n",
       "      <td>bv</td>\n",
       "      <td>0.08</td>\n",
       "      <td>purple</td>\n",
       "      <td>0</td>\n",
       "    </tr>\n",
       "    <tr>\n",
       "      <th>119</th>\n",
       "      <td>g_gy2</td>\n",
       "      <td>w_gy2</td>\n",
       "      <td>gy2</td>\n",
       "      <td>0.05</td>\n",
       "      <td>yellowgreen</td>\n",
       "      <td>0</td>\n",
       "    </tr>\n",
       "    <tr>\n",
       "      <th>120</th>\n",
       "      <td>w_gy2</td>\n",
       "      <td>b_gy2</td>\n",
       "      <td>gy2</td>\n",
       "      <td>0.03</td>\n",
       "      <td>yellowgreen</td>\n",
       "      <td>1</td>\n",
       "    </tr>\n",
       "    <tr>\n",
       "      <th>121</th>\n",
       "      <td>b_gy2</td>\n",
       "      <td>o_gy2</td>\n",
       "      <td>gy2</td>\n",
       "      <td>0.07</td>\n",
       "      <td>yellowgreen</td>\n",
       "      <td>0</td>\n",
       "    </tr>\n",
       "    <tr>\n",
       "      <th>122</th>\n",
       "      <td>o_gy2</td>\n",
       "      <td>y_gy2</td>\n",
       "      <td>gy2</td>\n",
       "      <td>0.12</td>\n",
       "      <td>yellowgreen</td>\n",
       "      <td>0</td>\n",
       "    </tr>\n",
       "  </tbody>\n",
       "</table>\n",
       "<p>123 rows × 6 columns</p>\n",
       "</div>"
      ],
      "text/plain": [
       "            node1  node2 trail  distance        color  estimate\n",
       "0    rs_end_north   v_rs    rs      0.30          red         0\n",
       "1            v_rs   b_rs    rs      0.21          red         0\n",
       "2            b_rs   g_rs    rs      0.11          red         0\n",
       "3            g_rs   w_rs    rs      0.18          red         0\n",
       "4            w_rs   o_rs    rs      0.21          red         0\n",
       "..            ...    ...   ...       ...          ...       ...\n",
       "118          v_bv   b_bv    bv      0.08       purple         0\n",
       "119         g_gy2  w_gy2   gy2      0.05  yellowgreen         0\n",
       "120         w_gy2  b_gy2   gy2      0.03  yellowgreen         1\n",
       "121         b_gy2  o_gy2   gy2      0.07  yellowgreen         0\n",
       "122         o_gy2  y_gy2   gy2      0.12  yellowgreen         0\n",
       "\n",
       "[123 rows x 6 columns]"
      ]
     },
     "execution_count": 14,
     "metadata": {},
     "output_type": "execute_result"
    }
   ],
   "source": [
    "data"
   ]
  },
  {
   "cell_type": "code",
   "execution_count": null,
   "metadata": {},
   "outputs": [],
   "source": []
  }
 ],
 "metadata": {
  "kernelspec": {
   "display_name": "Python 3",
   "language": "python",
   "name": "python3"
  },
  "language_info": {
   "codemirror_mode": {
    "name": "ipython",
    "version": 3
   },
   "file_extension": ".py",
   "mimetype": "text/x-python",
   "name": "python",
   "nbconvert_exporter": "python",
   "pygments_lexer": "ipython3",
   "version": "3.7.3"
  }
 },
 "nbformat": 4,
 "nbformat_minor": 2
}
